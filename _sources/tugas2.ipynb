{
  "cells": [
    {
      "cell_type": "markdown",
      "metadata": {
        "id": "CuWx3p-3J6gR"
      },
      "source": [
        "# **Tugas 2 data_understanding**\n",
        "## **Penjelasan Outlier Deteksi**\n",
        "### **Deteksi Outlier dengan K-Nearest Neighbors (KNN) dalam Data Understanding**  \n",
        "#### 1. Pengantar Outlier dalam Data Understanding\n",
        "Outlier adalah data yang memiliki nilai yang jauh berbeda dibandingkan dengan sebagian besar data dalam suatu kumpulan. Keberadaannya bisa disebabkan oleh berbagai faktor, seperti kesalahan dalam pengukuran, kesalahan saat memasukkan data, atau memang karena adanya kejadian langka. Saat memahami data (Data Understanding), mendeteksi outlier menjadi langkah penting karena dapat memengaruhi hasil analisis, pemodelan, dan pengambilan keputusan. Jika outlier tidak terdeteksi, model statistik atau machine learning bisa menjadi bias, kurang akurat, atau bahkan gagal memberikan hasil yang valid.\n",
        "\n",
        "#### 2. Konsep K-Nearest Neighbors (KNN) dalam Deteksi Outlier\n",
        "K-Nearest Neighbors (KNN) adalah algoritma berbasis kedekatan yang sering digunakan untuk klasifikasi dan regresi. Namun, KNN juga dapat dimanfaatkan dalam deteksi outlier dengan mengukur seberapa jauh suatu titik data dari tetangga terdekatnya. Berikut adalah konsep dasar KNN dalam deteksi outlier:\n",
        "\n",
        "\n",
        "*   Prinsip Kerja KNN:\n",
        "\n",
        "\n",
        "\n",
        "KNN menghitung jarak antara suatu titik data dengan titik-titik data lain di sekitarnya. Titik data yang memiliki jarak jauh dari sebagian besar tetangganya dianggap sebagai outlier.\n",
        "Secara matematis, KNN mengukur jarak (misalnya, Euclidean, Manhattan, atau Minkowski) antara titik data dan k-tetangga terdekatnya. Jika jarak rata-rata ke k-tetangga terdekat tersebut lebih besar dari ambang batas tertentu, titik data tersebut dianggap sebagai outlier.\n",
        "\n",
        "#### Kapan Menggunakan KNN untuk Deteksi Outlier?\n",
        "K-Nearest Neighbors (KNN) dapat digunakan untuk mendeteksi outlier dalam berbagai situasi, tetapi lebih efektif dalam kondisi tertentu. Berikut adalah beberapa skenario di mana KNN cocok digunakan untuk deteksi outlier:\n",
        "\n",
        "Ketika Data Tidak Berasumsi Distribusi Tertentu\n",
        "KNN adalah metode berbasis kedekatan yang tidak bergantung pada asumsi distribusi data, seperti normal atau Gaussian.\n",
        "Jika dataset memiliki pola distribusi yang tidak diketahui atau tidak mengikuti distribusi tertentu, KNN bisa menjadi pilihan yang baik untuk mendeteksi outlier.\n",
        "\n",
        "Ketika Dataset Tidak Terlalu Besar\n",
        "KNN memerlukan perhitungan jarak antara setiap titik data, sehingga kurang efisien untuk dataset yang sangat besar.\n",
        "Jika dataset berukuran kecil hingga menengah, KNN dapat bekerja dengan baik karena masih dapat menangani perhitungan jarak dengan cepat.\n",
        "\n",
        "Saat Data Berupa Data Numerik dan Berbasis Jarak\n",
        "KNN bekerja dengan menghitung jarak antara titik-titik data, sehingga lebih cocok untuk data numerik.\n",
        "Jika data berbentuk kategori, perlu dikonversi ke bentuk numerik atau menggunakan metrik jarak yang sesuai.\n",
        "\n",
        "\n",
        "#### Kesimpulan\n",
        "K-Nearest Neighbors (KNN) adalah metode berbasis jarak yang dapat digunakan untuk mendeteksi outlier dengan mengukur kedekatan suatu titik terhadap tetangga terdekatnya. KNN cocok digunakan ketika dataset berukuran kecil hingga menengah, tidak memiliki asumsi distribusi tertentu, dan outlier dapat diidentifikasi berdasarkan jarak.\n",
        "\n",
        "Namun, KNN kurang efisien untuk dataset yang sangat besar atau berdimensi tinggi karena memerlukan banyak perhitungan jarak. Selain itu, jika outlier tidak dapat dideteksi hanya berdasarkan jarak, metode lain seperti DBSCAN, Isolation Forest, atau Autoencoder mungkin lebih efektif. Oleh karena itu, pemilihan metode deteksi outlier harus disesuaikan dengan karakteristik dataset dan tujuan analisis."
      ]
    },
    {
      "cell_type": "markdown",
      "metadata": {
        "id": "WiLZnlhMssG4"
      },
      "source": [
        "### Koneksi dan Analisis\n",
        "\n",
        "- Menghubungkan ke Database\n",
        "  - Menggunakan psycopg2 untuk PostgreSQL atau pymysql untuk MySQL guna mengakses database.  \n",
        "\n",
        "- Mengambil & Mengolah Data  \n",
        "  - Menggunakan pandas untuk membaca data dari database atau file.  \n",
        "  - Menggunakan numpy untuk melakukan perhitungan matematis.  \n",
        "\n",
        "- Visualisasi Data  \n",
        "  - Menggunakan seaborn dan matplotlib untuk menyajikan data dalam bentuk grafik.  \n",
        "\n",
        "- Deteksi Outlier dengan LOF  \n",
        "  - Memanfaatkan jarak Euclidean untuk mengukur kedekatan antar titik data.  \n",
        "  - Menggunakan NearestNeighbors untuk mencari tetangga terdekat.  \n",
        "  - Menghitung Local Outlier Factor (LOF) guna mengidentifikasi titik yang berpotensi sebagai outlier."
      ]
    },
    {
      "cell_type": "code",
      "execution_count": 17,
      "metadata": {
        "id": "qdbX-YLHr8BL"
      },
      "outputs": [],
      "source": [
        "import psycopg2\n",
        "import pymysql\n",
        "import numpy as np\n",
        "import pandas as pd\n",
        "import seaborn as sns\n",
        "import matplotlib.pyplot as plt\n",
        "from scipy.spatial.distance import euclidean\n",
        "from sklearn.neighbors import NearestNeighbors"
      ]
    },
    {
      "cell_type": "markdown",
      "metadata": {
        "id": "1xtdon3vsyOr"
      },
      "source": [
        "#### Koneksi ke Database PostgreSQL\n",
        " Menggunakan psycopg2.connect() untuk membuat koneksi ke database PostgreSQL.\n",
        "\n",
        "Parameter koneksi:\n",
        "\n",
        "host → Alamat server database.\n",
        "\n",
        "user → Nama pengguna database.\n",
        "\n",
        "password → Kata sandi database.\n",
        "\n",
        "database → Nama database yang akan diakses.\n",
        "\n",
        "port → Port yang digunakan untuk koneksi PostgreSQL (10845)."
      ]
    },
    {
      "cell_type": "code",
      "execution_count": 18,
      "metadata": {
        "id": "_VR5nHFJsSwa"
      },
      "outputs": [],
      "source": [
        "def get_pg_data():\n",
        "    conn = psycopg2.connect(\n",
        "        host= \"pg-95a74ae-mysqlsahqi.i.aivencloud.com\",\n",
        "        user=\"avnadmin\",\n",
        "        password=\"AVNS_4Wa9Rjgb5ekAs4rlnX0\",\n",
        "        database=\"defaultdb\",\n",
        "        port=28926\n",
        "    )\n",
        "    cursor = conn.cursor()\n",
        "    cursor.execute(\"SELECT * FROM iris_postgresql\")\n",
        "    data = cursor.fetchall()\n",
        "    columns = [desc[0] for desc in cursor.description]\n",
        "    cursor.close()\n",
        "    conn.close()\n",
        "    return pd.DataFrame(data, columns=columns)"
      ]
    },
    {
      "cell_type": "markdown",
      "metadata": {
        "id": "qffpBkABs5pK"
      },
      "source": [
        "#### Koneksi ke Database MySQL\n",
        "Menggunakan pymysql.connect() untuk membuat koneksi ke database MySQL.\n",
        "\n",
        "Parameter koneksi:\n",
        "\n",
        "host → Alamat server database.\n",
        "\n",
        "user → Nama pengguna database.\n",
        "\n",
        "password → Kata sandi database.\n",
        "\n",
        "database → Nama database yang akan diakses.\n",
        "\n",
        "port → Port koneksi MySQL (10845)."
      ]
    },
    {
      "cell_type": "code",
      "execution_count": 19,
      "metadata": {
        "id": "Zl6XKksItdwG"
      },
      "outputs": [],
      "source": [
        "def get_mysql_data():\n",
        "    conn = pymysql.connect(\n",
        "        host=\"mysql-27650795-mysqlsahqi.g.aivencloud.com\",\n",
        "        user=\"avnadmin\",\n",
        "        password=\"AVNS_MRHI_ER4NmdlSWM5fr_\",\n",
        "        database=\"defaultdb\",\n",
        "        port=28926\n",
        "    )\n",
        "    cursor = conn.cursor()\n",
        "    cursor.execute(\"SELECT * FROM irismysql\")\n",
        "    data = cursor.fetchall()\n",
        "    columns = [desc[0] for desc in cursor.description]\n",
        "    cursor.close()\n",
        "    conn.close()\n",
        "    return pd.DataFrame(data, columns=columns)"
      ]
    },
    {
      "cell_type": "markdown",
      "metadata": {
        "id": "i49h0QBn3dXS"
      },
      "source": [
        "#### Deteksi Outlier dengan KNN\n",
        "Kode ini bertujuan untuk mengambil data dari PostgreSQL dan MySQL, menggabungkannya, lalu mengidentifikasi outlier menggunakan metode K-Nearest Neighbors (KNN)."
      ]
    },
    {
      "cell_type": "code",
      "execution_count": 20,
      "metadata": {
        "colab": {
          "base_uri": "https://localhost:8080/",
          "height": 1000
        },
        "id": "QBvEgEfsKQF0",
        "outputId": "9d3dc162-bbab-4b19-c04b-684712a9faac"
      },
      "outputs": [
        {
          "name": "stdout",
          "output_type": "stream",
          "text": [
            " id           class  petal_length  petal_width  sepal_length  sepal_width  knn_distance  outlier\n",
            "  1     Iris-setosa           1.4          0.2           5.1          3.5      0.133137    False\n",
            "  2     Iris-setosa          14.0          2.0          40.9         30.0     43.258305     True\n",
            "  3     Iris-setosa           1.3          0.2           4.7          3.2      0.236019    False\n",
            "  4     Iris-setosa           1.5          0.2           4.6          3.1      0.209551    False\n",
            "  5     Iris-setosa           1.4          0.2           5.0          3.6      0.191277    False\n",
            "  6     Iris-setosa           1.7          0.4           5.4          3.9      0.360018    False\n",
            "  7     Iris-setosa           1.4          0.3           4.6          3.4      0.284127    False\n",
            "  8     Iris-setosa           1.5          0.2           5.0          3.4      0.167647    False\n",
            "  9     Iris-setosa           1.4          0.2           4.4          2.9      0.292923    False\n",
            " 10     Iris-setosa           1.5          0.1           4.9          3.1      0.109282    False\n",
            " 11     Iris-setosa           1.5          0.2           5.4          3.7      0.269234    False\n",
            " 12     Iris-setosa           1.6          0.2           4.8          3.4      0.266011    False\n",
            " 13     Iris-setosa           1.4          0.1           4.8          3.0      0.192913    False\n",
            " 14     Iris-setosa           1.1          0.1           4.3          3.0      0.377434    False\n",
            " 15     Iris-setosa           1.2          0.2           5.8          4.0      0.513789    False\n",
            " 16     Iris-setosa           1.5          0.4           5.7          4.4      0.556295    False\n",
            " 17     Iris-setosa           1.3          0.4           5.4          3.9      0.376312    False\n",
            " 18     Iris-setosa           1.4          0.3           5.1          3.5      0.152207    False\n",
            " 19     Iris-setosa           1.7          0.3           5.7          3.8      0.443504    False\n",
            " 20     Iris-setosa           1.5          0.3           5.1          3.8      0.221719    False\n",
            " 21     Iris-setosa           1.7          0.2           5.4          3.4      0.332902    False\n",
            " 22     Iris-setosa           1.5          0.4           5.1          3.7      0.235747    False\n",
            " 23     Iris-setosa           1.0          0.2           4.6          3.6      0.518395    False\n",
            " 24     Iris-setosa           1.7          0.5           5.1          3.3      0.322668    False\n",
            " 25     Iris-setosa           1.9          0.2           4.8          3.4      0.391591    False\n",
            " 26     Iris-setosa           1.6          0.2           5.0          3.0      0.224721    False\n",
            " 27     Iris-setosa           1.6          0.4           5.0          3.4      0.231348    False\n",
            " 28     Iris-setosa           1.5          0.2           5.2          3.5      0.164215    False\n",
            " 29     Iris-setosa           1.4          0.2           5.2          3.4      0.164215    False\n",
            " 30     Iris-setosa           1.6          0.2           4.7          3.2      0.205283    False\n",
            " 31     Iris-setosa           1.6          0.2           4.8          3.1      0.176929    False\n",
            " 32     Iris-setosa           1.5          0.4           5.4          3.4      0.309096    False\n",
            " 33     Iris-setosa           1.5          0.1           5.2          4.1      0.389902    False\n",
            " 34     Iris-setosa           1.4          0.2           5.5          4.2      0.397231    False\n",
            " 35     Iris-setosa           1.5          0.1           4.9          3.1      0.109282    False\n",
            " 36     Iris-setosa           1.2          0.2           5.0          3.2      0.312863    False\n",
            " 37     Iris-setosa           1.3          0.2           5.5          3.5      0.330971    False\n",
            " 38     Iris-setosa           1.5          0.1           4.9          3.1      0.109282    False\n",
            " 39     Iris-setosa           1.3          0.2           4.4          3.0      0.237274    False\n",
            " 40     Iris-setosa           1.5          0.2           5.1          3.4      0.139494    False\n",
            " 41     Iris-setosa           1.3          0.3           5.0          3.5      0.195546    False\n",
            " 42     Iris-setosa           1.3          0.3           4.5          2.3      0.736302     True\n",
            " 43     Iris-setosa           1.3          0.2           4.4          3.2      0.267967    False\n",
            " 44     Iris-setosa           1.6          0.6           5.0          3.5      0.320568    False\n",
            " 45     Iris-setosa           1.9          0.4           5.1          3.8      0.407785    False\n",
            " 46     Iris-setosa           1.4          0.3           4.8          3.0      0.247735    False\n",
            " 47     Iris-setosa           1.6          0.2           5.1          3.8      0.252596    False\n",
            " 48     Iris-setosa           1.4          0.2           4.6          3.2      0.190733    False\n",
            " 49     Iris-setosa           1.5          0.2           5.3          3.7      0.219269    False\n",
            " 50     Iris-setosa           1.4          0.2           5.0          3.3      0.197089    False\n",
            " 51 Iris-versicolor           4.7          1.4           7.0          3.2      0.402000    False\n",
            " 52 Iris-versicolor           4.5          1.5           6.4          3.2      0.337735    False\n",
            " 53 Iris-versicolor           4.9          1.5           6.9          3.1      0.343992    False\n",
            " 54 Iris-versicolor           4.0          1.3           5.5          2.3      0.337602    False\n",
            " 55 Iris-versicolor           4.6          1.5           6.5          2.8      0.339361    False\n",
            " 56 Iris-versicolor           4.5          1.3           5.7          2.8      0.327657    False\n",
            " 57 Iris-versicolor           4.7          1.6           6.3          3.3      0.395904    False\n",
            " 58 Iris-versicolor           3.3          1.0           4.9          2.4      0.499098    False\n",
            " 59 Iris-versicolor           4.6          1.3           6.6          2.9      0.287716    False\n",
            " 60 Iris-versicolor           3.9          1.4           5.2          2.7      0.496896    False\n",
            " 61 Iris-versicolor           3.5          1.0           5.0          2.0      0.584977    False\n",
            " 62 Iris-versicolor           4.2          1.5           5.9          3.0      0.345388    False\n",
            " 63 Iris-versicolor           4.0          1.0           6.0          2.2      0.544685    False\n",
            " 64 Iris-versicolor           4.7          1.4           6.1          2.9      0.294026    False\n",
            " 65 Iris-versicolor           3.6          1.3           5.6          2.9      0.487902    False\n",
            " 66 Iris-versicolor           4.4          1.4           6.7          3.1      0.301517    False\n",
            " 67 Iris-versicolor           4.5          1.5           5.6          3.0      0.344775    False\n",
            " 68 Iris-versicolor           4.1          1.0           5.8          2.7      0.318835    False\n",
            " 69 Iris-versicolor           4.5          1.5           6.2          2.2      0.539667    False\n",
            " 70 Iris-versicolor           3.9          1.1           5.6          2.5      0.249461    False\n",
            " 71 Iris-versicolor           4.8          1.8           5.9          3.2      0.355494    False\n",
            " 72 Iris-versicolor           4.0          1.3           6.1          2.8      0.372910    False\n",
            " 73 Iris-versicolor           4.9          1.5           6.3          2.5      0.398715    False\n",
            " 74 Iris-versicolor           4.7          1.2           6.1          2.8      0.361011    False\n",
            " 75 Iris-versicolor           4.3          1.3           6.4          2.9      0.319945    False\n",
            " 76 Iris-versicolor           4.4          1.4           6.6          3.0      0.256680    False\n",
            " 77 Iris-versicolor           4.8          1.4           6.8          2.8      0.361496    False\n",
            " 78 Iris-versicolor           5.0          1.7           6.7          3.0      0.390246    False\n",
            " 79 Iris-versicolor           4.5          1.5           6.0          2.9      0.299437    False\n",
            " 80 Iris-versicolor           3.5          1.0           5.7          2.6      0.424564    False\n",
            " 81 Iris-versicolor           3.8          1.1           5.5          2.4      0.267778    False\n",
            " 82 Iris-versicolor           3.7          1.0           5.5          2.4      0.324837    False\n",
            " 83 Iris-versicolor           3.9          1.2           5.8          2.7      0.267050    False\n",
            " 84 Iris-versicolor           5.1          1.6           6.0          2.7      0.367850    False\n",
            " 85 Iris-versicolor           4.5          1.5           5.4          3.0      0.418339    False\n",
            " 86 Iris-versicolor           4.5          1.6           6.0          3.4      0.447126    False\n",
            " 87 Iris-versicolor           4.7          1.5           6.7          3.1      0.318674    False\n",
            " 88 Iris-versicolor           4.4          1.3           6.3          2.3      0.531071    False\n",
            " 89 Iris-versicolor           4.1          1.3           5.6          3.0      0.252082    False\n",
            " 90 Iris-versicolor           4.0          1.3           5.5          2.5      0.275322    False\n",
            " 91 Iris-versicolor           4.4          1.2           5.5          2.6      0.370719    False\n",
            " 92 Iris-versicolor           4.6          1.4           6.1          3.0      0.275026    False\n",
            " 93 Iris-versicolor           4.0          1.2           5.8          2.6      0.246350    False\n",
            " 94 Iris-versicolor           3.3          1.0           5.0          2.3      0.451692    False\n",
            " 95 Iris-versicolor           4.2          1.3           5.6          2.7      0.255523    False\n",
            " 96 Iris-versicolor           4.2          1.2           5.7          3.0      0.250359    False\n",
            " 97 Iris-versicolor           4.2          1.3           5.7          2.9      0.195931    False\n",
            " 98 Iris-versicolor           4.3          1.3           6.2          2.9      0.322356    False\n",
            " 99 Iris-versicolor           3.0          1.1           5.1          2.5      0.621594    False\n",
            "100 Iris-versicolor           4.1          1.3           5.7          2.8      0.209551    False\n",
            "101  Iris-virginica           6.0          2.5           6.3          3.3      0.519844    False\n",
            "102  Iris-virginica           5.1          1.9           5.8          2.7      0.254604    False\n",
            "103  Iris-virginica           5.9          2.1           7.1          3.0      0.431573    False\n",
            "104  Iris-virginica           5.6          1.8           6.3          2.9      0.326625    False\n",
            "105  Iris-virginica           5.8          2.2           6.5          3.0      0.350276    False\n",
            "106  Iris-virginica           6.6          2.1           7.6          3.0      0.499489    False\n",
            "107  Iris-virginica           4.5          1.7           4.9          2.5      0.810164     True\n",
            "108  Iris-virginica           6.3          1.8           7.3          2.9      0.466823    False\n",
            "109  Iris-virginica           5.8          1.8           6.7          2.5      0.602832    False\n",
            "110  Iris-virginica           6.1          2.5           7.2          3.6      0.714318     True\n",
            "111  Iris-virginica           5.1          2.0           6.5          3.2      0.383068    False\n",
            "112  Iris-virginica           5.3          1.9           6.4          2.7      0.373868    False\n",
            "113  Iris-virginica           5.5          2.1           6.8          3.0      0.325700    False\n",
            "114  Iris-virginica           5.0          2.0           5.7          2.5      0.385630    False\n",
            "115  Iris-virginica           5.1          2.4           5.8          2.8      0.533926    False\n",
            "116  Iris-virginica           5.3          2.3           6.4          3.2      0.364586    False\n",
            "117  Iris-virginica           5.5          1.8           6.5          3.0      0.304304    False\n",
            "118  Iris-virginica           6.7          2.2           7.7          3.8      0.823174     True\n",
            "119  Iris-virginica           6.9          2.3           7.7          2.6      0.749237     True\n",
            "120  Iris-virginica           5.0          1.5           6.0          2.2      0.546572    False\n",
            "121  Iris-virginica           5.7          2.3           6.9          3.2      0.289747    False\n",
            "122  Iris-virginica           4.9          2.0           5.6          2.8      0.382455    False\n",
            "123  Iris-virginica           6.7          2.0           7.7          2.8      0.532679    False\n",
            "124  Iris-virginica           4.9          1.8           6.3          2.7      0.302686    False\n",
            "125  Iris-virginica           5.7          2.1           6.7          3.3      0.350372    False\n",
            "126  Iris-virginica           6.0          1.8           7.2          3.2      0.457343    False\n",
            "127  Iris-virginica           4.8          1.8           6.2          2.8      0.302512    False\n",
            "128  Iris-virginica           4.9          1.8           6.1          3.0      0.265954    False\n",
            "129  Iris-virginica           5.6          2.1           6.4          2.8      0.301871    False\n",
            "130  Iris-virginica           5.8          1.6           7.2          3.0      0.527962    False\n",
            "131  Iris-virginica           6.1          1.9           7.4          2.8      0.448059    False\n",
            "132  Iris-virginica           6.4          2.0           7.9          3.8      0.836056     True\n",
            "133  Iris-virginica           5.6          2.2           6.4          2.8      0.345839    False\n",
            "134  Iris-virginica           5.1          1.5           6.3          2.8      0.392106    False\n",
            "135  Iris-virginica           5.6          1.4           6.1          2.6      0.608343    False\n",
            "136  Iris-virginica           6.1          2.3           7.7          3.0      0.625559    False\n",
            "137  Iris-virginica           5.6          2.4           6.3          3.4      0.398480    False\n",
            "138  Iris-virginica           5.5          1.8           6.4          3.1      0.333563    False\n",
            "139  Iris-virginica           4.8          1.8           6.0          3.0      0.279998    False\n",
            "140  Iris-virginica           5.4          2.1           6.9          3.1      0.336158    False\n",
            "141  Iris-virginica           5.6          2.4           6.7          3.1      0.312580    False\n",
            "142  Iris-virginica           5.1          2.3           6.9          3.1      0.420813    False\n",
            "143  Iris-virginica           5.1          1.9           5.8          2.7      0.254604    False\n",
            "144  Iris-virginica           5.9          2.3           6.8          3.2      0.317954    False\n",
            "145  Iris-virginica           5.7          2.5           6.7          3.3      0.339413    False\n",
            "146  Iris-virginica           5.2          2.3           6.7          3.0      0.342878    False\n",
            "147  Iris-virginica           5.0          1.9           6.3          2.5      0.379661    False\n",
            "148  Iris-virginica           5.2          2.0           6.5          3.0      0.335685    False\n",
            "149  Iris-virginica           5.4          2.3           6.2          3.4      0.468533    False\n",
            "150  Iris-virginica           5.1          1.8           5.9          3.0      0.324590    False\n",
            "151             ???           5.1          3.2           5.8          1.0      2.035647     True\n"
          ]
        },
        {
          "data": {
            "image/png": "[encoded data removed]",
            "text/plain": [
              "<Figure size 800x600 with 1 Axes>"
            ]
          },
          "metadata": {},
          "output_type": "display_data"
        },
        {
          "data": {
            "image/png": "[encoded data removed]",
            "text/plain": [
              "<Figure size 800x600 with 1 Axes>"
            ]
          },
          "metadata": {},
          "output_type": "display_data"
        }
      ],
      "source": [
        "# Ambil data dari kedua database\n",
        "df_postgresql = get_pg_data()\n",
        "df_mysql = get_mysql_data()\n",
        "\n",
        "# Gabungkan berdasarkan kolom 'id' dan 'Class'\n",
        "df_merged = pd.merge(df_mysql, df_postgresql, on=[\"id\", \"class\"], how=\"inner\")\n",
        "\n",
        "# Ambil data fitur numerik\n",
        "feature_columns = [\"petal_length\", \"petal_width\", \"sepal_length\", \"sepal_width\"]\n",
        "data_values = df_merged[feature_columns].values\n",
        "\n",
        "# Gunakan KNN untuk mendeteksi outlier\n",
        "K = 5  # Jumlah tetangga terdekat\n",
        "nbrs = NearestNeighbors(n_neighbors=K+1, metric='euclidean').fit(data_values)\n",
        "distances, indices = nbrs.kneighbors(data_values)\n",
        "\n",
        "# Ambil rata-rata jarak ke K tetangga terdekat (tidak termasuk jarak ke dirinya sendiri)\n",
        "df_merged[\"knn_distance\"] = np.mean(distances[:, 1:], axis=1)\n",
        "\n",
        "# Tentukan threshold outlier berdasarkan persentil ke-95\n",
        "threshold = np.percentile(df_merged[\"knn_distance\"], 95)\n",
        "df_merged[\"outlier\"] = df_merged[\"knn_distance\"] > threshold\n",
        "\n",
        "# Cetak hasil data dengan outlier\n",
        "print(df_merged.to_string(index=False))\n",
        "\n",
        "# Visualisasi scatter plot dengan warna berdasarkan outlier\n",
        "plt.figure(figsize=(8, 6))\n",
        "sns.scatterplot(\n",
        "    x=df_merged[\"sepal_length\"], y=df_merged[\"sepal_width\"],\n",
        "    hue=df_merged[\"outlier\"], palette={False: \"blue\", True: \"red\"}\n",
        ")\n",
        "plt.title(\"Outlier Detection with KNN (Sepal)\")\n",
        "plt.show()\n",
        "\n",
        "plt.figure(figsize=(8, 6))\n",
        "sns.scatterplot(\n",
        "    x=df_merged[\"petal_length\"], y=df_merged[\"petal_width\"],\n",
        "    hue=df_merged[\"outlier\"], palette={False: \"blue\", True: \"red\"}\n",
        ")\n",
        "plt.title(\"Outlier Detection with KNN (Petal)\")\n",
        "plt.show()"
      ]
    },
    {
      "cell_type": "markdown",
      "metadata": {
        "id": "3ZKC1imx309v"
      },
      "source": [
        "#### Total outlier\n",
        "Kode berikut digunakan untuk menghitung total jumlah outlier yang terdeteksi dalam dataset"
      ]
    },
    {
      "cell_type": "code",
      "execution_count": 21,
      "metadata": {
        "colab": {
          "base_uri": "https://localhost:8080/"
        },
        "id": "jlqNal9kKVfW",
        "outputId": "c0e3ea32-0a19-4613-91fb-77df3fe687d2"
      },
      "outputs": [
        {
          "name": "stdout",
          "output_type": "stream",
          "text": [
            "Total Outlier: 8\n"
          ]
        }
      ],
      "source": [
        "# Hitung total outlier\n",
        "total_outliers = df_merged[\"outlier\"].sum()\n",
        "print(f\"Total Outlier: {total_outliers}\")"
      ]
    },
    {
      "cell_type": "markdown",
      "metadata": {
        "id": "yY6ei_aI35aY"
      },
      "source": [
        "#### Menampilkan daftar outlier yang terdeteks"
      ]
    },
    {
      "cell_type": "code",
      "execution_count": 22,
      "metadata": {
        "colab": {
          "base_uri": "https://localhost:8080/"
        },
        "id": "kl71AhD3KZp7",
        "outputId": "90c0dd91-a2b6-41ab-f001-1bbd66b60bb8"
      },
      "outputs": [
        {
          "name": "stdout",
          "output_type": "stream",
          "text": [
            "Outlier Teratas:\n",
            " id          class  petal_length  petal_width  sepal_length  sepal_width  knn_distance  outlier\n",
            "  2    Iris-setosa          14.0          2.0          40.9         30.0     43.258305     True\n",
            "151            ???           5.1          3.2           5.8          1.0      2.035647     True\n",
            "132 Iris-virginica           6.4          2.0           7.9          3.8      0.836056     True\n",
            "118 Iris-virginica           6.7          2.2           7.7          3.8      0.823174     True\n",
            "107 Iris-virginica           4.5          1.7           4.9          2.5      0.810164     True\n",
            "119 Iris-virginica           6.9          2.3           7.7          2.6      0.749237     True\n",
            " 42    Iris-setosa           1.3          0.3           4.5          2.3      0.736302     True\n",
            "110 Iris-virginica           6.1          2.5           7.2          3.6      0.714318     True\n"
          ]
        }
      ],
      "source": [
        "outliers = df_merged[df_merged[\"outlier\"]].sort_values(by=\"knn_distance\", ascending=False)\n",
        "print(\"Outlier Teratas:\")\n",
        "print(outliers.to_string(index=False))"
      ]
    },
    {
      "cell_type": "code",
      "execution_count": null,
      "metadata": {},
      "outputs": [
        {
          "name": "stdout",
          "output_type": "stream",
          "text": [
            " id           class  petal_length  petal_width  sepal_length  sepal_width  knn_distance  outlier\n",
            " 10     Iris-setosa           1.5          0.1           4.9          3.1      0.109282    False\n",
            " 35     Iris-setosa           1.5          0.1           4.9          3.1      0.109282    False\n",
            " 38     Iris-setosa           1.5          0.1           4.9          3.1      0.109282    False\n",
            "  1     Iris-setosa           1.4          0.2           5.1          3.5      0.133137    False\n",
            " 40     Iris-setosa           1.5          0.2           5.1          3.4      0.139494    False\n",
            " 18     Iris-setosa           1.4          0.3           5.1          3.5      0.152207    False\n",
            " 28     Iris-setosa           1.5          0.2           5.2          3.5      0.164215    False\n",
            " 29     Iris-setosa           1.4          0.2           5.2          3.4      0.164215    False\n",
            "  8     Iris-setosa           1.5          0.2           5.0          3.4      0.167647    False\n",
            " 31     Iris-setosa           1.6          0.2           4.8          3.1      0.176929    False\n",
            " 48     Iris-setosa           1.4          0.2           4.6          3.2      0.190733    False\n",
            "  5     Iris-setosa           1.4          0.2           5.0          3.6      0.191277    False\n",
            " 13     Iris-setosa           1.4          0.1           4.8          3.0      0.192913    False\n",
            " 41     Iris-setosa           1.3          0.3           5.0          3.5      0.195546    False\n",
            " 97 Iris-versicolor           4.2          1.3           5.7          2.9      0.195931    False\n",
            " 50     Iris-setosa           1.4          0.2           5.0          3.3      0.197089    False\n",
            " 30     Iris-setosa           1.6          0.2           4.7          3.2      0.205283    False\n",
            "  4     Iris-setosa           1.5          0.2           4.6          3.1      0.209551    False\n",
            "100 Iris-versicolor           4.1          1.3           5.7          2.8      0.209551    False\n",
            " 49     Iris-setosa           1.5          0.2           5.3          3.7      0.219269    False\n",
            " 20     Iris-setosa           1.5          0.3           5.1          3.8      0.221719    False\n",
            " 26     Iris-setosa           1.6          0.2           5.0          3.0      0.224721    False\n",
            " 27     Iris-setosa           1.6          0.4           5.0          3.4      0.231348    False\n",
            " 22     Iris-setosa           1.5          0.4           5.1          3.7      0.235747    False\n",
            "  3     Iris-setosa           1.3          0.2           4.7          3.2      0.236019    False\n",
            " 39     Iris-setosa           1.3          0.2           4.4          3.0      0.237274    False\n",
            " 93 Iris-versicolor           4.0          1.2           5.8          2.6      0.246350    False\n",
            " 46     Iris-setosa           1.4          0.3           4.8          3.0      0.247735    False\n",
            " 70 Iris-versicolor           3.9          1.1           5.6          2.5      0.249461    False\n",
            " 96 Iris-versicolor           4.2          1.2           5.7          3.0      0.250359    False\n",
            " 89 Iris-versicolor           4.1          1.3           5.6          3.0      0.252082    False\n",
            " 47     Iris-setosa           1.6          0.2           5.1          3.8      0.252596    False\n",
            "102  Iris-virginica           5.1          1.9           5.8          2.7      0.254604    False\n",
            "143  Iris-virginica           5.1          1.9           5.8          2.7      0.254604    False\n",
            " 95 Iris-versicolor           4.2          1.3           5.6          2.7      0.255523    False\n",
            " 76 Iris-versicolor           4.4          1.4           6.6          3.0      0.256680    False\n",
            "128  Iris-virginica           4.9          1.8           6.1          3.0      0.265954    False\n",
            " 12     Iris-setosa           1.6          0.2           4.8          3.4      0.266011    False\n",
            " 83 Iris-versicolor           3.9          1.2           5.8          2.7      0.267050    False\n",
            " 81 Iris-versicolor           3.8          1.1           5.5          2.4      0.267778    False\n",
            " 43     Iris-setosa           1.3          0.2           4.4          3.2      0.267967    False\n",
            " 11     Iris-setosa           1.5          0.2           5.4          3.7      0.269234    False\n",
            " 92 Iris-versicolor           4.6          1.4           6.1          3.0      0.275026    False\n",
            " 90 Iris-versicolor           4.0          1.3           5.5          2.5      0.275322    False\n",
            "139  Iris-virginica           4.8          1.8           6.0          3.0      0.279998    False\n",
            "  7     Iris-setosa           1.4          0.3           4.6          3.4      0.284127    False\n",
            " 59 Iris-versicolor           4.6          1.3           6.6          2.9      0.287716    False\n",
            "121  Iris-virginica           5.7          2.3           6.9          3.2      0.289747    False\n",
            "  9     Iris-setosa           1.4          0.2           4.4          2.9      0.292923    False\n",
            " 64 Iris-versicolor           4.7          1.4           6.1          2.9      0.294026    False\n",
            " 79 Iris-versicolor           4.5          1.5           6.0          2.9      0.299437    False\n",
            " 66 Iris-versicolor           4.4          1.4           6.7          3.1      0.301517    False\n",
            "129  Iris-virginica           5.6          2.1           6.4          2.8      0.301871    False\n",
            "127  Iris-virginica           4.8          1.8           6.2          2.8      0.302512    False\n",
            "124  Iris-virginica           4.9          1.8           6.3          2.7      0.302686    False\n",
            "117  Iris-virginica           5.5          1.8           6.5          3.0      0.304304    False\n",
            " 32     Iris-setosa           1.5          0.4           5.4          3.4      0.309096    False\n",
            "141  Iris-virginica           5.6          2.4           6.7          3.1      0.312580    False\n",
            " 36     Iris-setosa           1.2          0.2           5.0          3.2      0.312863    False\n",
            "144  Iris-virginica           5.9          2.3           6.8          3.2      0.317954    False\n",
            " 87 Iris-versicolor           4.7          1.5           6.7          3.1      0.318674    False\n",
            " 68 Iris-versicolor           4.1          1.0           5.8          2.7      0.318835    False\n",
            " 75 Iris-versicolor           4.3          1.3           6.4          2.9      0.319945    False\n",
            " 44     Iris-setosa           1.6          0.6           5.0          3.5      0.320568    False\n",
            " 98 Iris-versicolor           4.3          1.3           6.2          2.9      0.322356    False\n",
            " 24     Iris-setosa           1.7          0.5           5.1          3.3      0.322668    False\n",
            "150  Iris-virginica           5.1          1.8           5.9          3.0      0.324590    False\n",
            " 82 Iris-versicolor           3.7          1.0           5.5          2.4      0.324837    False\n",
            "113  Iris-virginica           5.5          2.1           6.8          3.0      0.325700    False\n",
            "104  Iris-virginica           5.6          1.8           6.3          2.9      0.326625    False\n",
            " 56 Iris-versicolor           4.5          1.3           5.7          2.8      0.327657    False\n",
            " 37     Iris-setosa           1.3          0.2           5.5          3.5      0.330971    False\n",
            " 21     Iris-setosa           1.7          0.2           5.4          3.4      0.332902    False\n",
            "138  Iris-virginica           5.5          1.8           6.4          3.1      0.333563    False\n",
            "148  Iris-virginica           5.2          2.0           6.5          3.0      0.335685    False\n",
            "140  Iris-virginica           5.4          2.1           6.9          3.1      0.336158    False\n",
            " 54 Iris-versicolor           4.0          1.3           5.5          2.3      0.337602    False\n",
            " 52 Iris-versicolor           4.5          1.5           6.4          3.2      0.337735    False\n",
            " 55 Iris-versicolor           4.6          1.5           6.5          2.8      0.339361    False\n",
            "145  Iris-virginica           5.7          2.5           6.7          3.3      0.339413    False\n",
            "146  Iris-virginica           5.2          2.3           6.7          3.0      0.342878    False\n",
            " 53 Iris-versicolor           4.9          1.5           6.9          3.1      0.343992    False\n",
            " 67 Iris-versicolor           4.5          1.5           5.6          3.0      0.344775    False\n",
            " 62 Iris-versicolor           4.2          1.5           5.9          3.0      0.345388    False\n",
            "133  Iris-virginica           5.6          2.2           6.4          2.8      0.345839    False\n",
            "105  Iris-virginica           5.8          2.2           6.5          3.0      0.350276    False\n",
            "125  Iris-virginica           5.7          2.1           6.7          3.3      0.350372    False\n",
            " 71 Iris-versicolor           4.8          1.8           5.9          3.2      0.355494    False\n",
            "  6     Iris-setosa           1.7          0.4           5.4          3.9      0.360018    False\n",
            " 74 Iris-versicolor           4.7          1.2           6.1          2.8      0.361011    False\n",
            " 77 Iris-versicolor           4.8          1.4           6.8          2.8      0.361496    False\n",
            "116  Iris-virginica           5.3          2.3           6.4          3.2      0.364586    False\n",
            " 84 Iris-versicolor           5.1          1.6           6.0          2.7      0.367850    False\n",
            " 91 Iris-versicolor           4.4          1.2           5.5          2.6      0.370719    False\n",
            " 72 Iris-versicolor           4.0          1.3           6.1          2.8      0.372910    False\n",
            "112  Iris-virginica           5.3          1.9           6.4          2.7      0.373868    False\n",
            " 17     Iris-setosa           1.3          0.4           5.4          3.9      0.376312    False\n",
            " 14     Iris-setosa           1.1          0.1           4.3          3.0      0.377434    False\n",
            "147  Iris-virginica           5.0          1.9           6.3          2.5      0.379661    False\n",
            "122  Iris-virginica           4.9          2.0           5.6          2.8      0.382455    False\n",
            "111  Iris-virginica           5.1          2.0           6.5          3.2      0.383068    False\n",
            "114  Iris-virginica           5.0          2.0           5.7          2.5      0.385630    False\n",
            " 33     Iris-setosa           1.5          0.1           5.2          4.1      0.389902    False\n",
            " 78 Iris-versicolor           5.0          1.7           6.7          3.0      0.390246    False\n",
            " 25     Iris-setosa           1.9          0.2           4.8          3.4      0.391591    False\n",
            "134  Iris-virginica           5.1          1.5           6.3          2.8      0.392106    False\n",
            " 57 Iris-versicolor           4.7          1.6           6.3          3.3      0.395904    False\n",
            " 34     Iris-setosa           1.4          0.2           5.5          4.2      0.397231    False\n",
            "137  Iris-virginica           5.6          2.4           6.3          3.4      0.398480    False\n",
            " 73 Iris-versicolor           4.9          1.5           6.3          2.5      0.398715    False\n",
            " 51 Iris-versicolor           4.7          1.4           7.0          3.2      0.402000    False\n",
            " 45     Iris-setosa           1.9          0.4           5.1          3.8      0.407785    False\n",
            " 85 Iris-versicolor           4.5          1.5           5.4          3.0      0.418339    False\n",
            "142  Iris-virginica           5.1          2.3           6.9          3.1      0.420813    False\n",
            " 80 Iris-versicolor           3.5          1.0           5.7          2.6      0.424564    False\n",
            "103  Iris-virginica           5.9          2.1           7.1          3.0      0.431573    False\n",
            " 19     Iris-setosa           1.7          0.3           5.7          3.8      0.443504    False\n",
            " 86 Iris-versicolor           4.5          1.6           6.0          3.4      0.447126    False\n",
            "131  Iris-virginica           6.1          1.9           7.4          2.8      0.448059    False\n",
            " 94 Iris-versicolor           3.3          1.0           5.0          2.3      0.451692    False\n",
            "126  Iris-virginica           6.0          1.8           7.2          3.2      0.457343    False\n",
            "108  Iris-virginica           6.3          1.8           7.3          2.9      0.466823    False\n",
            "149  Iris-virginica           5.4          2.3           6.2          3.4      0.468533    False\n",
            " 65 Iris-versicolor           3.6          1.3           5.6          2.9      0.487902    False\n",
            " 60 Iris-versicolor           3.9          1.4           5.2          2.7      0.496896    False\n",
            " 58 Iris-versicolor           3.3          1.0           4.9          2.4      0.499098    False\n",
            "106  Iris-virginica           6.6          2.1           7.6          3.0      0.499489    False\n",
            " 15     Iris-setosa           1.2          0.2           5.8          4.0      0.513789    False\n",
            " 23     Iris-setosa           1.0          0.2           4.6          3.6      0.518395    False\n",
            "101  Iris-virginica           6.0          2.5           6.3          3.3      0.519844    False\n",
            "130  Iris-virginica           5.8          1.6           7.2          3.0      0.527962    False\n",
            " 88 Iris-versicolor           4.4          1.3           6.3          2.3      0.531071    False\n",
            "123  Iris-virginica           6.7          2.0           7.7          2.8      0.532679    False\n",
            "115  Iris-virginica           5.1          2.4           5.8          2.8      0.533926    False\n",
            " 69 Iris-versicolor           4.5          1.5           6.2          2.2      0.539667    False\n",
            " 63 Iris-versicolor           4.0          1.0           6.0          2.2      0.544685    False\n",
            "120  Iris-virginica           5.0          1.5           6.0          2.2      0.546572    False\n",
            " 16     Iris-setosa           1.5          0.4           5.7          4.4      0.556295    False\n",
            " 61 Iris-versicolor           3.5          1.0           5.0          2.0      0.584977    False\n",
            "109  Iris-virginica           5.8          1.8           6.7          2.5      0.602832    False\n",
            "135  Iris-virginica           5.6          1.4           6.1          2.6      0.608343    False\n",
            " 99 Iris-versicolor           3.0          1.1           5.1          2.5      0.621594    False\n",
            "136  Iris-virginica           6.1          2.3           7.7          3.0      0.625559    False\n",
            "110  Iris-virginica           6.1          2.5           7.2          3.6      0.714318     True\n",
            " 42     Iris-setosa           1.3          0.3           4.5          2.3      0.736302     True\n",
            "119  Iris-virginica           6.9          2.3           7.7          2.6      0.749237     True\n",
            "107  Iris-virginica           4.5          1.7           4.9          2.5      0.810164     True\n",
            "118  Iris-virginica           6.7          2.2           7.7          3.8      0.823174     True\n",
            "132  Iris-virginica           6.4          2.0           7.9          3.8      0.836056     True\n",
            "151             ???           5.1          3.2           5.8          1.0      2.035647     True\n",
            "  2     Iris-setosa          14.0          2.0          40.9         30.0     43.258305     True\n"
          ]
        }
      ],
      "source": [
        "#### Mengurutkan data by KNN\n",
        "\n",
        "# Urutkan data berdasarkan jarak dari terkecil ke terbesar\n",
        "df_sorted = df_merged.sort_values(by=\"knn_distance\", ascending=True)\n",
        "\n",
        "# Tampilkan hasilnya\n",
        "print(df_sorted.to_string(index=False))\n"
      ]
    },
    {
      "cell_type": "code",
      "execution_count": 9,
      "metadata": {
        "id": "NSmn1Vs7b2v0"
      },
      "outputs": [],
      "source": [
        "petal_sepal =  pd.merge(df_mysql, df_postgresql)\n",
        "import numpy as np\n",
        "from sklearn.neighbors import LocalOutlierFactor"
      ]
    },
    {
      "cell_type": "code",
      "execution_count": 10,
      "metadata": {
        "colab": {
          "base_uri": "https://localhost:8080/"
        },
        "id": "ux0G_ZZQhWOh",
        "outputId": "94c65091-9e7f-4387-eace-795350ba0d68"
      },
      "outputs": [
        {
          "name": "stdout",
          "output_type": "stream",
          "text": [
            "   petal_length  petal_width  sepal_length  sepal_width\n",
            "0           1.4          0.2           5.1          3.5\n",
            "1           1.4          0.2           4.9          3.0\n",
            "2           1.3          0.2           4.7          3.2\n",
            "3           1.5          0.2           4.6          3.1\n",
            "4           1.4          0.2           5.0          3.6\n"
          ]
        }
      ],
      "source": [
        "from sklearn.datasets import load_iris\n",
        "import pandas as pd\n",
        "\n",
        "# Load dataset\n",
        "iris = load_iris()\n",
        "\n",
        "# Buat DataFrame\n",
        "df = pd.DataFrame(iris.data, columns=iris.feature_names)\n",
        "\n",
        "# Ganti nama kolom agar sesuai dengan yang diminta\n",
        "df.columns = ['sepal_length', 'sepal_width', 'petal_length', 'petal_width']\n",
        "\n",
        "# Ambil hanya kolom yang diperlukan\n",
        "X = df[['petal_length', 'petal_width', 'sepal_length', 'sepal_width']]\n",
        "\n",
        "print(X.head()) # Cek hasil"
      ]
    },
    {
      "cell_type": "code",
      "execution_count": 11,
      "metadata": {
        "colab": {
          "base_uri": "https://localhost:8080/"
        },
        "id": "C014scB8h0Tz",
        "outputId": "6a902966-f135-443b-e341-482ecb9162d5"
      },
      "outputs": [
        {
          "name": "stdout",
          "output_type": "stream",
          "text": [
            "[ 1  1  1  1  1  1  1  1  1  1  1  1  1  1  1 -1  1  1  1  1  1  1  1  1\n",
            "  1  1  1  1  1  1  1  1  1  1  1  1  1  1  1  1  1 -1  1  1  1  1  1  1\n",
            "  1  1  1  1  1  1  1  1  1  1  1  1  1  1  1  1  1  1  1  1  1  1  1  1\n",
            "  1  1  1  1  1  1  1  1  1  1  1  1  1  1  1  1  1  1  1  1  1  1  1  1\n",
            "  1  1 -1  1  1  1  1  1  1  1  1  1  1  1  1  1  1  1  1  1  1 -1 -1  1\n",
            "  1  1  1  1  1  1  1  1  1  1  1 -1  1  1  1  1  1  1  1  1  1  1  1  1\n",
            "  1  1  1  1  1  1]\n"
          ]
        }
      ],
      "source": [
        "import numpy as np\n",
        "import pandas as pd\n",
        "from sklearn.datasets import load_iris\n",
        "from sklearn.neighbors import LocalOutlierFactor\n",
        "\n",
        "# Load dataset\n",
        "iris = load_iris()\n",
        "df = pd.DataFrame(iris.data, columns=iris.feature_names)\n",
        "\n",
        "# Ganti nama kolom agar sesuai dengan permintaan\n",
        "df.columns = ['sepal_length', 'sepal_width', 'petal_length', 'petal_width']\n",
        "\n",
        "# Pastikan df_merged didefinisikan (jika memang perlu merging, lakukan di sini)\n",
        "df_merged = df  # Jika tidak ada proses merge, gunakan df langsung\n",
        "\n",
        "# Ambil fitur yang diminta\n",
        "x = df_merged[['petal_length', 'petal_width', 'sepal_length', 'sepal_width']]\n",
        "\n",
        "# Inisialisasi model Local Outlier Factor\n",
        "clf = LocalOutlierFactor(n_neighbors=20)\n",
        "\n",
        "# Prediksi anomali/outlier\n",
        "y_pred = clf.fit_predict(x)\n",
        "\n",
        "# Cetak hasil prediksi\n",
        "print(y_pred)"
      ]
    },
    {
      "cell_type": "code",
      "execution_count": 12,
      "metadata": {
        "colab": {
          "base_uri": "https://localhost:8080/"
        },
        "id": "aB74uIq_h4EF",
        "outputId": "7d43f881-f6ab-4ef8-8e26-42b853d88c59"
      },
      "outputs": [
        {
          "name": "stdout",
          "output_type": "stream",
          "text": [
            "(150, 4)\n",
            "     petal_length  petal_width  sepal_length  sepal_width\n",
            "0             1.4          0.2           5.1          3.5\n",
            "1             1.4          0.2           4.9          3.0\n",
            "2             1.3          0.2           4.7          3.2\n",
            "3             1.5          0.2           4.6          3.1\n",
            "4             1.4          0.2           5.0          3.6\n",
            "..            ...          ...           ...          ...\n",
            "145           5.2          2.3           6.7          3.0\n",
            "146           5.0          1.9           6.3          2.5\n",
            "147           5.2          2.0           6.5          3.0\n",
            "148           5.4          2.3           6.2          3.4\n",
            "149           5.1          1.8           5.9          3.0\n",
            "\n",
            "[150 rows x 4 columns]\n"
          ]
        }
      ],
      "source": [
        "from sklearn.datasets import load_iris\n",
        "import pandas as pd\n",
        "\n",
        "# Load dataset\n",
        "iris = load_iris()\n",
        "\n",
        "# Buat DataFrame\n",
        "df = pd.DataFrame(iris.data, columns=iris.feature_names)\n",
        "\n",
        "# Ganti nama kolom agar sesuai dengan yang diminta\n",
        "df.columns = ['sepal_length', 'sepal_width', 'petal_length', 'petal_width']\n",
        "\n",
        "# Ambil semua data\n",
        "X = df[['petal_length', 'petal_width', 'sepal_length', 'sepal_width']]\n",
        "\n",
        "# Cek jumlah data\n",
        "print(X.shape)  # Output: (150, 4)\n",
        "print(X)"
      ]
    },
    {
      "cell_type": "markdown",
      "metadata": {
        "id": "Ab9w1pjouaPr"
      },
      "source": [
        "# LOF\n",
        "## APA ITU LOF?\n",
        "Local Outlier Factor (LOF) adalah algoritma deteksi anomali tanpa pengawasan yang mengevaluasi seberapa jauh kepadatan suatu titik data dibandingkan dengan tetangganya. Jika suatu sampel memiliki kepadatan yang jauh lebih rendah dibandingkan dengan lingkungan sekitarnya, maka dianggap sebagai outlier. Metode ini sering digunakan untuk mengidentifikasi data yang tidak normal, dan merupakan salah satu pendekatan utama dalam deteksi anomali di scikit-learn."
      ]
    },
    {
      "cell_type": "markdown",
      "metadata": {
        "id": "q9dhhMeMxFKI"
      },
      "source": [
        "## BAGAIMANA TAHAPAN LOF?\n",
        "1. Tentukan K-Tetangga Terdekat (k-nearest neighbors)\n",
        "Setiap titik data dihitung jaraknya ke sejumlah tetangga terdekatnya (misalnya 5 atau 10 tetangga).\n",
        "\n",
        "2. Hitung Reachability Distance\n",
        "Jarak yang dibutuhkan untuk mencapai tetangga terdekat dihitung untuk semua titik data.\n",
        "\n",
        "3. Hitung Kepadatan Lokal (Local Density)\n",
        "Kepadatan dihitung berdasarkan jarak ke tetangga sekitar.\n",
        "$$\\text{LRD}(A) = \\frac{1}{\\frac{1}{k} \\sum_{B \\in N_k(A)} d_{\\text{reach}}(A, B)} $$\n",
        "\n",
        "4. Hitung Local Outlier Factor (LOF Score)\n",
        "- LOF Score menunjukkan seberapa jauh kepadatan suatu titik dibandingkan dengan tetangganya.\n",
        "- Jika LOF Score mendekati 1, titik tersebut dianggap normal.\n",
        "- Jika LOF Score lebih besar dari 1, kemungkinan titik tersebut adalah outlier.\n",
        "\n",
        "$$\\text{LOF}_k(A) = \\frac{\\sum_{B \\in N_k(A)} \\frac{\\text{LRD}_k(B)}{\\text{LRD}_k(A)}}{|N_k(A)|} $$"
      ]
    },
    {
      "cell_type": "markdown",
      "metadata": {
        "id": "9r8W460YxJ1y"
      },
      "source": [
        "## CONTOH MENGHITUNG MANUAL LOF\n",
        "Misalkan kita punya 4 titik data dalam 2 dimensi:\n",
        "![image.png](data:image/png;base64,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)\n",
        "\n",
        "Kita akan menghitung LOF untuk titik D menggunakan k = 2 (2-nearest neighbors).\n",
        "\n",
        "Rumus jarak Euclidean antara dua titik $\\left(x_1, y_1\\right)$ dan $\\left(x_2, y_2\\right)$ :\n",
        "$$\n",
        "d(A, B)=\\sqrt{\\left(x_2-x_1\\right)^2+\\left(y_2-y_1\\right)^2}\n",
        "$$\n",
        "\n",
        "Mari kita hitung jarak D ke semua titik lain:\n",
        "$$\n",
        "\\begin{aligned}\n",
        "& d(D, A)=\\sqrt{(20-2)^2+(20-3)^2}=\\sqrt{324+289}=\\sqrt{613} \\approx 24.74 \\\\\n",
        "& d(D, B)=\\sqrt{(20-3)^2+(20-5)^2}=\\sqrt{289+225}=\\sqrt{514} \\approx 22.71 \\\\\n",
        "& d(D, C)=\\sqrt{(20-4)^2+(20-4)^2}=\\sqrt{256+256}=\\sqrt{512} \\approx 22.63\n",
        "\\end{aligned}\n",
        "$$\n",
        "\n",
        "Jadi, 2 tetangga terdekat titik D adalah C dan B.\n",
        "\n",
        "Reachability Distance dihitung sebagai:\n",
        "$$\n",
        "\\operatorname{reach}-\\operatorname{dist}(D, C)=\\max (\\mathrm{k} \\text {-distance }(C), d(D, C))\n",
        "$$\n",
        "\n",
        "Misalkan k-distance untuk C adalah jarak ke tetangga terdekatnya, yaitu:\n",
        "$$\n",
        "\\mathrm{k} \\text {-distance }(C)=d(C, B)=\\sqrt{(4-3)^2+(4-5)^2}=\\sqrt{1+1}=\\sqrt{2} \\approx 1.41\n",
        "$$\n",
        "\n",
        "Maka:\n",
        "$$\n",
        "\\operatorname{reach}-\\operatorname{dist}(D, C)=\\max (1.41,22.63)=22.63\n",
        "$$\n",
        "\n",
        "Begitu juga:\n",
        "$$\n",
        "\\operatorname{reach}-\\operatorname{dist}(D, B)=\\max (2.24,22.71)=22.71\n",
        "$$\n",
        "\n",
        "LRD dihitung dengan:\n",
        "$$\n",
        "\\begin{aligned}\n",
        "& \\operatorname{LRD}(D)=\\frac{k}{\\sum_{i=1}^k \\operatorname{reach-dist}(D, i) / k} \\\\\n",
        "& \\operatorname{LRD}(D)=\\frac{2}{\\left(\\frac{22.63+22.11}{2}\\right)} \\\\\n",
        "&\n",
        "\\end{aligned}=\\frac{2}{22.67} \\approx 0.088 \\quad 1 .\n",
        "$$\n",
        "\n",
        "LOF dihitung dengan:\n",
        "$$\n",
        "\\operatorname{LOF}(D)=\\frac{\\sum_{i=1}^k \\operatorname{LRD}(i) / k}{\\operatorname{LRD}(D)}\n",
        "$$\n",
        "\n",
        "Misalkan LRD untuk titik C dan B adalah:\n",
        "$$\n",
        "\\operatorname{LRD}(C)=0.50, \\quad \\operatorname{LRD}(B)=0.52\n",
        "$$\n",
        "\n",
        "Maka:\n",
        "$$\n",
        "\\begin{aligned}\n",
        "\\operatorname{LOF}(D) & =\\frac{(0.50+0.52) / 2}{0.088} \\\\\n",
        "= & \\frac{0.51}{0.088} \\approx 5.8\n",
        "\\end{aligned}\n",
        "$$\n",
        "\n",
        "Jika LOF ≈ 1, berarti titik tersebut normal.\n",
        "Jika LOF > 1, berarti titik tersebut outlier.\n",
        "LOF(D) ≈ 5.8, artinya titik D adalah outlier!"
      ]
    },
    {
      "cell_type": "markdown",
      "metadata": {
        "id": "F0HC8btsxhJy"
      },
      "source": [
        "# Implementasi menggunakan Sklearn"
      ]
    },
    {
      "cell_type": "code",
      "execution_count": null,
      "metadata": {
        "colab": {
          "base_uri": "https://localhost:8080/",
          "height": 1000
        },
        "id": "fJcvAht9xVQc",
        "outputId": "7137dab5-e209-440a-afd6-30b58cf2521f"
      },
      "outputs": [
        {
          "name": "stdout",
          "output_type": "stream",
          "text": [
            "10 Data Sepal:\n",
            " id       class  sepal_length  sepal_width  outlier\n",
            "  1 Iris-setosa           5.1          3.5    False\n",
            "  2 Iris-setosa          40.9         30.0     True\n",
            "  3 Iris-setosa           4.7          3.2    False\n",
            "  4 Iris-setosa           4.6          3.1    False\n",
            "  5 Iris-setosa           5.0          3.6    False\n",
            "  6 Iris-setosa           5.4          3.9    False\n",
            "  7 Iris-setosa           4.6          3.4    False\n",
            "  8 Iris-setosa           5.0          3.4    False\n",
            "  9 Iris-setosa           4.4          2.9    False\n",
            " 10 Iris-setosa           4.9          3.1    False\n",
            "\n",
            "10 Data Petal:\n",
            " id       class  petal_length  petal_width  outlier\n",
            "  1 Iris-setosa           1.4          0.2    False\n",
            "  2 Iris-setosa          14.0          2.0     True\n",
            "  3 Iris-setosa           1.3          0.2    False\n",
            "  4 Iris-setosa           1.5          0.2    False\n",
            "  5 Iris-setosa           1.4          0.2    False\n",
            "  6 Iris-setosa           1.7          0.4    False\n",
            "  7 Iris-setosa           1.4          0.3    False\n",
            "  8 Iris-setosa           1.5          0.2    False\n",
            "  9 Iris-setosa           1.4          0.2    False\n",
            " 10 Iris-setosa           1.5          0.1    False\n"
          ]
        },
        {
          "data": {
            "image/png": "[encoded data removed]",
            "text/plain": [
              "<Figure size 800x600 with 1 Axes>"
            ]
          },
          "metadata": {},
          "output_type": "display_data"
        },
        {
          "data": {
            "image/png": "[encoded data removed]",
            "text/plain": [
              "<Figure size 800x600 with 1 Axes>"
            ]
          },
          "metadata": {},
          "output_type": "display_data"
        }
      ],
      "source": [
        "import pandas as pd\n",
        "import numpy as np\n",
        "import seaborn as sns\n",
        "import matplotlib.pyplot as plt\n",
        "from sklearn.neighbors import NearestNeighbors\n",
        "\n",
        "# Ambil data dari kedua database\n",
        "df_postgresql = get_pg_data()\n",
        "df_mysql = get_mysql_data()\n",
        "\n",
        "# Gabungkan berdasarkan kolom 'id' dan 'Class'\n",
        "df_merged = pd.merge(df_mysql, df_postgresql, on=[\"id\", \"class\"], how=\"inner\")\n",
        "\n",
        "# Ambil data fitur numerik\n",
        "feature_columns = [\"petal_length\", \"petal_width\", \"sepal_length\", \"sepal_width\"]\n",
        "data_values = df_merged[feature_columns].values\n",
        "\n",
        "# Gunakan KNN untuk mendeteksi outlier\n",
        "K = 5  # Jumlah tetangga terdekat\n",
        "nbrs = NearestNeighbors(n_neighbors=K+1, metric='euclidean').fit(data_values)\n",
        "distances, indices = nbrs.kneighbors(data_values)\n",
        "\n",
        "# Ambil rata-rata jarak ke K tetangga terdekat (tidak termasuk jarak ke dirinya sendiri)\n",
        "df_merged[\"knn_distance\"] = np.mean(distances[:, 1:], axis=1)\n",
        "\n",
        "# Tentukan threshold outlier berdasarkan persentil ke-95\n",
        "threshold = np.percentile(df_merged[\"knn_distance\"], 95)\n",
        "df_merged[\"outlier\"] = df_merged[\"knn_distance\"] > threshold\n",
        "\n",
        "# Cetak 10 data dari Sepal\n",
        "print(\"10 Data Sepal:\")\n",
        "print(df_merged[[\"id\", \"class\", \"sepal_length\", \"sepal_width\", \"outlier\"]].head(10).to_string(index=False))\n",
        "\n",
        "# Cetak 10 data dari Petal\n",
        "print(\"\\n10 Data Petal:\")\n",
        "print(df_merged[[\"id\", \"class\", \"petal_length\", \"petal_width\", \"outlier\"]].head(10).to_string(index=False))\n",
        "\n",
        "# Visualisasi scatter plot Sepal\n",
        "plt.figure(figsize=(8, 6))\n",
        "sns.scatterplot(\n",
        "    x=df_merged[\"sepal_length\"], y=df_merged[\"sepal_width\"],\n",
        "    hue=df_merged[\"outlier\"], palette={False: \"blue\", True: \"red\"}\n",
        ")\n",
        "plt.title(\"Outlier Detection with KNN (Sepal)\")\n",
        "plt.show()\n",
        "\n",
        "# Visualisasi scatter plot Petal\n",
        "plt.figure(figsize=(8, 6))\n",
        "sns.scatterplot(\n",
        "    x=df_merged[\"petal_length\"], y=df_merged[\"petal_width\"],\n",
        "    hue=df_merged[\"outlier\"], palette={False: \"blue\", True: \"red\"}\n",
        ")\n",
        "plt.title(\"Outlier Detection with KNN (Petal)\")\n",
        "plt.show()"
      ]
    },
    {
      "cell_type": "markdown",
      "metadata": {
        "id": "YFpPOolKxn9J"
      },
      "source": [
        "# Deteksi Outlier Menggunakan Local Outlier Factor (LOF) di Sklearn"
      ]
    },
    {
      "cell_type": "code",
      "execution_count": null,
      "metadata": {
        "colab": {
          "base_uri": "https://localhost:8080/"
        },
        "id": "9BBkpcJ_xp6J",
        "outputId": "394ad0e0-8d94-45d9-b9d5-6701ac701a4d"
      },
      "outputs": [
        {
          "name": "stdout",
          "output_type": "stream",
          "text": [
            "Data Outlier (-1):\n",
            " id  petal_length  petal_width  sepal_length  sepal_width\n",
            "  2          14.0          2.0          40.9         30.0\n",
            " 15           1.2          0.2           5.8          4.0\n",
            " 16           1.5          0.4           5.7          4.4\n",
            " 42           1.3          0.3           4.5          2.3\n",
            " 58           3.3          1.0           4.9          2.4\n",
            " 61           3.5          1.0           5.0          2.0\n",
            " 94           3.3          1.0           5.0          2.3\n",
            " 99           3.0          1.1           5.1          2.5\n",
            "106           6.6          2.1           7.6          3.0\n",
            "107           4.5          1.7           4.9          2.5\n",
            "118           6.7          2.2           7.7          3.8\n",
            "119           6.9          2.3           7.7          2.6\n",
            "123           6.7          2.0           7.7          2.8\n",
            "132           6.4          2.0           7.9          3.8\n",
            "151           5.1          3.2           5.8          1.0\n"
          ]
        }
      ],
      "source": [
        "from sklearn.neighbors import  LocalOutlierFactor\n",
        "# Deteksi outlier dengan Local Outlier Factor (LOF)\n",
        "clf = LocalOutlierFactor(n_neighbors=20, contamination=0.1)\n",
        "y_pred = clf.fit_predict(data_values)\n",
        "\n",
        "# Tambahkan hasil prediksi ke DataFrame\n",
        "df_merged[\"outlier_label\"] = y_pred\n",
        "\n",
        "# Filter data dengan outlier (-1) dan tampilkan kolom yang diminta\n",
        "outlier_data = df_merged[df_merged[\"outlier_label\"] == -1][[\"id\", \"petal_length\", \"petal_width\", \"sepal_length\", \"sepal_width\"]]\n",
        "\n",
        "# Cetak data outlier\n",
        "print(\"Data Outlier (-1):\")\n",
        "print(outlier_data.to_string(index=False))"
      ]
    }
  ],
  "metadata": {
    "colab": {
      "provenance": []
    },
    "kernelspec": {
      "display_name": "Python 3",
      "name": "python3"
    },
    "language_info": {
      "codemirror_mode": {
        "name": "ipython",
        "version": 3
      },
      "file_extension": ".py",
      "mimetype": "text/x-python",
      "name": "python",
      "nbconvert_exporter": "python",
      "pygments_lexer": "ipython3",
      "version": "3.12.1"
    }
  },
  "nbformat": 4,
  "nbformat_minor": 0
}
